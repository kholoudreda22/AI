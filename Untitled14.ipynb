{
  "nbformat": 4,
  "nbformat_minor": 0,
  "metadata": {
    "colab": {
      "provenance": [],
      "authorship_tag": "ABX9TyMF8tSjHvUWY3KPmqTyFpzb",
      "include_colab_link": true
    },
    "kernelspec": {
      "name": "python3",
      "display_name": "Python 3"
    },
    "language_info": {
      "name": "python"
    }
  },
  "cells": [
    {
      "cell_type": "markdown",
      "metadata": {
        "id": "view-in-github",
        "colab_type": "text"
      },
      "source": [
        "<a href=\"https://colab.research.google.com/github/kholoudreda22/AI/blob/main/Untitled14.ipynb\" target=\"_parent\"><img src=\"https://colab.research.google.com/assets/colab-badge.svg\" alt=\"Open In Colab\"/></a>"
      ]
    },
    {
      "cell_type": "code",
      "execution_count": 2,
      "metadata": {
        "colab": {
          "base_uri": "https://localhost:8080/"
        },
        "id": "XseGVihiJ-S-",
        "outputId": "87742c65-e1e9-46ee-f9d4-2607ef001722"
      },
      "outputs": [
        {
          "output_type": "stream",
          "name": "stdout",
          "text": [
            "hack,a,rank,khac,ackh,kran,rankhacker,a,ab,ba,stairs,raits\n",
            "a,nark,bs,hack,stair\n",
            "[('a', 2), ('nark', 2), ('bs', 0), ('hack', 3), ('stair', 1)]\n"
          ]
        }
      ],
      "source": [
        "#string anagram\n",
        "def string_anagram(dictionary, query):\n",
        "    def sort_string(s):\n",
        "        return ''.join(sorted(s))\n",
        "\n",
        "    sorted_dict = [sort_string(s) for s in dictionary]\n",
        "    result = []\n",
        "\n",
        "    for q in query:\n",
        "        sorted_query = sort_string(q)\n",
        "        count = sorted_dict.count(sorted_query)\n",
        "        result.append((q, count))\n",
        "\n",
        "    return result\n",
        "\n",
        "dictionary = input().split(',')\n",
        "query = input().split(',')\n",
        "print(string_anagram(dictionary, query))\n"
      ]
    }
  ]
}